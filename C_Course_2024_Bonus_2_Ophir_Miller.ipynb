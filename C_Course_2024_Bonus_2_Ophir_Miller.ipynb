{
  "nbformat": 4,
  "nbformat_minor": 0,
  "metadata": {
    "colab": {
      "provenance": [],
      "gpuType": "T4",
      "authorship_tag": "ABX9TyNC7YzRUe4v7W+xz2agtRGe",
      "include_colab_link": true
    },
    "kernelspec": {
      "name": "python3",
      "display_name": "Python 3"
    },
    "language_info": {
      "name": "python"
    },
    "accelerator": "GPU"
  },
  "cells": [
    {
      "cell_type": "markdown",
      "metadata": {
        "id": "view-in-github",
        "colab_type": "text"
      },
      "source": [
        "<a href=\"https://colab.research.google.com/github/ophirmil12/Cyber-Project/blob/main/C_Course_2024_Bonus_2_Ophir_Miller.ipynb\" target=\"_parent\"><img src=\"https://colab.research.google.com/assets/colab-badge.svg\" alt=\"Open In Colab\"/></a>"
      ]
    },
    {
      "cell_type": "markdown",
      "source": [
        "<div dir=rtl>\n",
        "\n",
        "#התקנות ושונות"
      ],
      "metadata": {
        "id": "0KAaN-_erT8y"
      }
    },
    {
      "cell_type": "code",
      "execution_count": null,
      "metadata": {
        "colab": {
          "base_uri": "https://localhost:8080/"
        },
        "collapsed": true,
        "id": "t-zpnO7VoqAJ",
        "outputId": "8cd8f55c-f873-4573-f752-cd58dd646984"
      },
      "outputs": [
        {
          "output_type": "stream",
          "name": "stdout",
          "text": [
            "nvcc: NVIDIA (R) Cuda compiler driver\n",
            "Copyright (c) 2005-2023 NVIDIA Corporation\n",
            "Built on Tue_Aug_15_22:02:13_PDT_2023\n",
            "Cuda compilation tools, release 12.2, V12.2.140\n",
            "Build cuda_12.2.r12.2/compiler.33191640_0\n"
          ]
        }
      ],
      "source": [
        "!nvcc --version"
      ]
    },
    {
      "cell_type": "code",
      "source": [
        "!pip install git+https://github.com/andreinechaev/nvcc4jupyter.git"
      ],
      "metadata": {
        "colab": {
          "base_uri": "https://localhost:8080/"
        },
        "collapsed": true,
        "id": "n2Cn-gAdo6FY",
        "outputId": "e74713b1-a119-42a5-c5da-5894570970c5"
      },
      "execution_count": null,
      "outputs": [
        {
          "output_type": "stream",
          "name": "stdout",
          "text": [
            "Collecting git+https://github.com/andreinechaev/nvcc4jupyter.git\n",
            "  Cloning https://github.com/andreinechaev/nvcc4jupyter.git to /tmp/pip-req-build-tzyrtzxt\n",
            "  Running command git clone --filter=blob:none --quiet https://github.com/andreinechaev/nvcc4jupyter.git /tmp/pip-req-build-tzyrtzxt\n",
            "  Resolved https://github.com/andreinechaev/nvcc4jupyter.git to commit 326b0a57a80c6d0b4bad25ca7adf8138419ef1cb\n",
            "  Installing build dependencies ... \u001b[?25l\u001b[?25hdone\n",
            "  Getting requirements to build wheel ... \u001b[?25l\u001b[?25hdone\n",
            "  Preparing metadata (pyproject.toml) ... \u001b[?25l\u001b[?25hdone\n",
            "Building wheels for collected packages: nvcc4jupyter\n",
            "  Building wheel for nvcc4jupyter (pyproject.toml) ... \u001b[?25l\u001b[?25hdone\n",
            "  Created wheel for nvcc4jupyter: filename=nvcc4jupyter-1.2.1-py3-none-any.whl size=10741 sha256=1c43b610d84440f376c57bb0b3d20f87e2433fdb6f06eb98d5fd7c81c461a971\n",
            "  Stored in directory: /tmp/pip-ephem-wheel-cache-8kgzblvb/wheels/a8/b9/18/23f8ef71ceb0f63297dd1903aedd067e6243a68ea756d6feea\n",
            "Successfully built nvcc4jupyter\n",
            "Installing collected packages: nvcc4jupyter\n",
            "Successfully installed nvcc4jupyter-1.2.1\n"
          ]
        }
      ]
    },
    {
      "cell_type": "code",
      "source": [
        "%load_ext nvcc4jupyter"
      ],
      "metadata": {
        "colab": {
          "base_uri": "https://localhost:8080/"
        },
        "collapsed": true,
        "id": "t5dsFIy0o-L8",
        "outputId": "a1122a95-69a5-4438-91b7-b5976bbc6483"
      },
      "execution_count": null,
      "outputs": [
        {
          "output_type": "stream",
          "name": "stdout",
          "text": [
            "Detected platform \"Colab\". Running its setup...\n",
            "Source files will be saved in \"/tmp/tmp7ln5nqys\".\n"
          ]
        }
      ]
    },
    {
      "cell_type": "markdown",
      "source": [
        "# check first cuda code"
      ],
      "metadata": {
        "id": "NzoFkvZEpsav"
      }
    },
    {
      "cell_type": "code",
      "source": [
        "%%cuda\n",
        "#include <stdio.h>\n",
        "\n",
        "__global__ void hello(){\n",
        "    printf(\"Hello from block: %u, thread: %u\\n\", blockIdx.x, threadIdx.x);\n",
        "}\n",
        "\n",
        "int main(){\n",
        "    hello<<<2, 2>>>();\n",
        "    cudaDeviceSynchronize();\n",
        "}"
      ],
      "metadata": {
        "colab": {
          "base_uri": "https://localhost:8080/"
        },
        "id": "tzCyRX10pqIW",
        "outputId": "75314d1c-7b35-407d-8b9d-afdffce99326",
        "collapsed": true
      },
      "execution_count": null,
      "outputs": [
        {
          "output_type": "stream",
          "name": "stdout",
          "text": [
            "Hello from block: 1, thread: 0\n",
            "Hello from block: 1, thread: 1\n",
            "Hello from block: 0, thread: 0\n",
            "Hello from block: 0, thread: 1\n",
            "\n"
          ]
        }
      ]
    },
    {
      "cell_type": "markdown",
      "source": [
        "#run cuda code\n",
        "<div dir=rtl>\n",
        "\n",
        "*המטרה - להכפיל מטריצות כמות מסויימת של פעמים, ולהדפיס את זמן הריצה הכולל*"
      ],
      "metadata": {
        "id": "XMTkBQQlpxrg"
      }
    },
    {
      "cell_type": "code",
      "source": [
        "%%cuda\n",
        "\n",
        "#include <stdio.h>\n",
        "#include <stdlib.h>\n",
        "#include <time.h>\n",
        "#include <cuda_runtime.h>\n",
        "\n",
        "#define SIZE 1000\n",
        "#define BLOCK_SIZE 16\n",
        "\n",
        "__global__ void matrix_multiply(float *A, float *B, float *C) {\n",
        "    int tx = threadIdx.x;\n",
        "    int ty = threadIdx.y;\n",
        "    int bx = blockIdx.x;\n",
        "    int by = blockIdx.y;\n",
        "\n",
        "    int n = SIZE;\n",
        "    float Csub = 0;\n",
        "\n",
        "    for (int k = 0; k < n; k++) {\n",
        "        float Ak = A[bx * n * BLOCK_SIZE + tx * n + k];\n",
        "        float Bk = B[k * n * BLOCK_SIZE + by * n + ty];\n",
        "        Csub += Ak * Bk;\n",
        "    }\n",
        "\n",
        "    __syncthreads();\n",
        "\n",
        "    if (tx == 0 && ty == 0) {\n",
        "        C[bx * n * BLOCK_SIZE + by * n + ty * n + tx] = Csub;\n",
        "    }\n",
        "}\n",
        "\n",
        "int main() {\n",
        "    for (int times = 0; times < 10; times++)\n",
        "      {\n",
        "      float *A, *B, *C;\n",
        "      A = (float *)malloc(SIZE * SIZE * sizeof(float));\n",
        "      B = (float *)malloc(SIZE * SIZE * sizeof(float));\n",
        "      C = (float *)malloc(SIZE * SIZE * sizeof(float));\n",
        "\n",
        "      // Initialize matrix A with random numbers\n",
        "      for (int i = 0; i < SIZE * SIZE; i++) {\n",
        "          A[i] = (float)rand() / RAND_MAX;\n",
        "      }\n",
        "\n",
        "      // Copy matrix A to matrix B\n",
        "      for (int i = 0; i < SIZE * SIZE; i++) {\n",
        "          B[i] = A[i];\n",
        "      }\n",
        "\n",
        "      float *d_A, *d_B, *d_C;\n",
        "      cudaMalloc((void **)&d_A, SIZE * SIZE * sizeof(float));\n",
        "      cudaMalloc((void **)&d_B, SIZE * SIZE * sizeof(float));\n",
        "      cudaMalloc((void **)&d_C, SIZE * SIZE * sizeof(float));\n",
        "\n",
        "      cudaMemcpy(d_A, A, SIZE * SIZE * sizeof(float), cudaMemcpyHostToDevice);\n",
        "      cudaMemcpy(d_B, B, SIZE * SIZE * sizeof(float), cudaMemcpyHostToDevice);\n",
        "\n",
        "      dim3 threads(BLOCK_SIZE, BLOCK_SIZE);\n",
        "      dim3 blocks((SIZE + BLOCK_SIZE - 1) / BLOCK_SIZE, (SIZE + BLOCK_SIZE - 1) / BLOCK_SIZE);\n",
        "\n",
        "      clock_t start = clock();\n",
        "\n",
        "      // Multiply matrix A by itself 100 times on the GPU\n",
        "      for (int i = 0; i < 100; i++) {\n",
        "          matrix_multiply<<<blocks, threads>>>(d_A, d_B, d_C);\n",
        "          cudaMemcpy(A, d_A, SIZE * SIZE * sizeof(float), cudaMemcpyDeviceToHost);\n",
        "          cudaMemcpy(B, d_B, SIZE * SIZE * sizeof(float), cudaMemcpyDeviceToHost);\n",
        "          cudaMemcpy(C, d_C, SIZE * SIZE * sizeof(float), cudaMemcpyDeviceToHost);\n",
        "      }\n",
        "\n",
        "      clock_t end = clock();\n",
        "\n",
        "      printf(\"Execution time: %f seconds\\n\", (double)(end - start) / CLOCKS_PER_SEC);\n",
        "\n",
        "      cudaFree(d_A);\n",
        "      cudaFree(d_B);\n",
        "      cudaFree(d_C);\n",
        "\n",
        "      free(A);\n",
        "      free(B);\n",
        "      free(C);\n",
        "    }\n",
        "}"
      ],
      "metadata": {
        "colab": {
          "base_uri": "https://localhost:8080/"
        },
        "id": "S3AsSqZZp9KT",
        "outputId": "db6b397a-944d-473a-f5ca-a5fe4b93375c"
      },
      "execution_count": null,
      "outputs": [
        {
          "output_type": "stream",
          "name": "stdout",
          "text": [
            "Execution time: 0.056758 seconds\n",
            "Execution time: 0.000046 seconds\n",
            "Execution time: 0.000047 seconds\n",
            "Execution time: 0.000049 seconds\n",
            "Execution time: 0.000047 seconds\n",
            "Execution time: 0.000049 seconds\n",
            "Execution time: 0.000052 seconds\n",
            "Execution time: 0.000046 seconds\n",
            "Execution time: 0.000050 seconds\n",
            "Execution time: 0.000043 seconds\n",
            "\n"
          ]
        }
      ]
    },
    {
      "cell_type": "markdown",
      "source": [
        "# run C code\n",
        "<div dir=rtl>\n",
        "\n",
        "*אותה מטרה, הפעם בשפת C*\n",
        "* ראה פירוט בהמשך."
      ],
      "metadata": {
        "id": "-dziMIfXqqhD"
      }
    },
    {
      "cell_type": "code",
      "source": [
        "%%cuda\n",
        "\n",
        "#include <stdio.h>\n",
        "#include <stdlib.h>\n",
        "#include <time.h>\n",
        "\n",
        "#define SIZE 1000\n",
        "\n",
        "int main() {\n",
        "    for (int times = 0; times < 10; times++)\n",
        "      {\n",
        "      int i, j, k;\n",
        "      double **A, **B, **C;\n",
        "      clock_t start, end;\n",
        "      double time_taken;\n",
        "\n",
        "      // Allocate memory for matrices\n",
        "      A = (double **)malloc(SIZE * sizeof(double *));\n",
        "      B = (double **)malloc(SIZE * sizeof(double *));\n",
        "      C = (double **)malloc(SIZE * sizeof(double *));\n",
        "      for (i = 0; i < SIZE; i++) {\n",
        "          A[i] = (double *)malloc(SIZE * sizeof(double));\n",
        "          B[i] = (double *)malloc(SIZE * sizeof(double));\n",
        "          C[i] = (double *)malloc(SIZE * sizeof(double));\n",
        "      }\n",
        "\n",
        "      // Initialize matrices with random numbers\n",
        "      srand(time(NULL));\n",
        "      for (i = 0; i < SIZE; i++) {\n",
        "          for (j = 0; j < SIZE; j++) {\n",
        "              A[i][j] = (double)rand() / RAND_MAX;\n",
        "              B[i][j] = A[i][j];\n",
        "              C[i][j] = 0.0;\n",
        "          }\n",
        "      }\n",
        "\n",
        "      // Start timing\n",
        "      start = clock();\n",
        "\n",
        "      // Multiply matrix A by itself 100 times\n",
        "      for (k = 0; k < 100; k++) {\n",
        "          for (i = 0; i < SIZE; i++) {\n",
        "              for (j = 0; j < SIZE; j++) {\n",
        "                  for (int l = 0; l < SIZE; l++) {\n",
        "                      C[i][j] += A[i][l] * B[l][j];\n",
        "                  }\n",
        "              }\n",
        "          }\n",
        "          // Copy matrix C to matrix A\n",
        "          for (i = 0; i < SIZE; i++) {\n",
        "              for (j = 0; j < SIZE; j++) {\n",
        "                  A[i][j] = C[i][j];\n",
        "              }\n",
        "          }\n",
        "      }\n",
        "\n",
        "      // Stop timing\n",
        "      end = clock();\n",
        "\n",
        "      // Calculate time taken\n",
        "      time_taken = ((double)(end - start)) / CLOCKS_PER_SEC;\n",
        "\n",
        "      // Print time taken\n",
        "      printf(\"Time taken to multiply a %d x %d matrix by itself 100 times: %f seconds\\n\", SIZE, SIZE, time_taken);\n",
        "\n",
        "      // Free memory\n",
        "      for (i = 0; i < SIZE; i++) {\n",
        "          free(A[i]);\n",
        "          free(B[i]);\n",
        "          free(C[i]);\n",
        "      }\n",
        "      free(A);\n",
        "      free(B);\n",
        "      free(C);\n",
        "\n",
        "      return 0;\n",
        "      }\n",
        "}"
      ],
      "metadata": {
        "colab": {
          "base_uri": "https://localhost:8080/"
        },
        "id": "FaWJGAn0qpvT",
        "outputId": "4010c40f-9950-4eb9-9b1c-3e6d15782566"
      },
      "execution_count": null,
      "outputs": [
        {
          "output_type": "stream",
          "name": "stdout",
          "text": [
            "Time taken to multiply a 1000 x 1000 matrix by itself 100 times: 1014.913764 seconds\n",
            "\n"
          ]
        }
      ]
    },
    {
      "cell_type": "markdown",
      "source": [
        "<div dir=rtl>\n",
        "# בעיה קטנה... קודה כל כך יותר מהיר מC\n",
        "\n",
        "* ההרצה של מטריצות בגודל 1000 הייתה ארוכה מידי...\n",
        "* נריץ על מטריצות בגודל 100, ונבחין כי בכל זאת זמן ההרצה היה יותר מפי 10^4, וואו!\n",
        "* עצרתי את הריצה לאחר זמן ממושך, התוכנית הספיקה לעשות איטרציה יחידה, וקיבלנו שלקח כ-1000 שניות להריץ.\n"
      ],
      "metadata": {
        "id": "wxZDvZpOseWb"
      }
    },
    {
      "cell_type": "code",
      "source": [
        "%%cuda\n",
        "\n",
        "#include <stdio.h>\n",
        "#include <stdlib.h>\n",
        "#include <time.h>\n",
        "\n",
        "#define SIZE 100\n",
        "\n",
        "int main() {\n",
        "    for (int times = 0; times < 10; times++)\n",
        "      {\n",
        "      int i, j, k;\n",
        "      double **A, **B, **C;\n",
        "      clock_t start, end;\n",
        "      double time_taken;\n",
        "\n",
        "      // Allocate memory for matrices\n",
        "      A = (double **)malloc(SIZE * sizeof(double *));\n",
        "      B = (double **)malloc(SIZE * sizeof(double *));\n",
        "      C = (double **)malloc(SIZE * sizeof(double *));\n",
        "      for (i = 0; i < SIZE; i++) {\n",
        "          A[i] = (double *)malloc(SIZE * sizeof(double));\n",
        "          B[i] = (double *)malloc(SIZE * sizeof(double));\n",
        "          C[i] = (double *)malloc(SIZE * sizeof(double));\n",
        "      }\n",
        "\n",
        "      // Initialize matrices with random numbers\n",
        "      srand(time(NULL));\n",
        "      for (i = 0; i < SIZE; i++) {\n",
        "          for (j = 0; j < SIZE; j++) {\n",
        "              A[i][j] = (double)rand() / RAND_MAX;\n",
        "              B[i][j] = A[i][j];\n",
        "              C[i][j] = 0.0;\n",
        "          }\n",
        "      }\n",
        "\n",
        "      // Start timing\n",
        "      start = clock();\n",
        "\n",
        "      // Multiply matrix A by itself 100 times\n",
        "      for (k = 0; k < 100; k++) {\n",
        "          for (i = 0; i < SIZE; i++) {\n",
        "              for (j = 0; j < SIZE; j++) {\n",
        "                  for (int l = 0; l < SIZE; l++) {\n",
        "                      C[i][j] += A[i][l] * B[l][j];\n",
        "                  }\n",
        "              }\n",
        "          }\n",
        "          // Copy matrix C to matrix A\n",
        "          for (i = 0; i < SIZE; i++) {\n",
        "              for (j = 0; j < SIZE; j++) {\n",
        "                  A[i][j] = C[i][j];\n",
        "              }\n",
        "          }\n",
        "      }\n",
        "\n",
        "      // Stop timing\n",
        "      end = clock();\n",
        "\n",
        "      // Calculate time taken\n",
        "      time_taken = ((double)(end - start)) / CLOCKS_PER_SEC;\n",
        "\n",
        "      // Print time taken\n",
        "      printf(\"Time taken to multiply a %d x %d matrix by itself 100 times: %f seconds\\n\", SIZE, SIZE, time_taken);\n",
        "\n",
        "      // Free memory\n",
        "      for (i = 0; i < SIZE; i++) {\n",
        "          free(A[i]);\n",
        "          free(B[i]);\n",
        "          free(C[i]);\n",
        "      }\n",
        "      free(A);\n",
        "      free(B);\n",
        "      free(C);\n",
        "\n",
        "      }\n",
        "    return 0;\n",
        "}"
      ],
      "metadata": {
        "colab": {
          "base_uri": "https://localhost:8080/"
        },
        "id": "DzJYerIWr3Sf",
        "outputId": "f3f43ce8-ea94-4e1a-a3e5-b95dce3c3e8d"
      },
      "execution_count": null,
      "outputs": [
        {
          "output_type": "stream",
          "name": "stdout",
          "text": [
            "Time taken to multiply a 100 x 100 matrix by itself 100 times: 0.523293 seconds\n",
            "Time taken to multiply a 100 x 100 matrix by itself 100 times: 0.545763 seconds\n",
            "Time taken to multiply a 100 x 100 matrix by itself 100 times: 0.500590 seconds\n",
            "Time taken to multiply a 100 x 100 matrix by itself 100 times: 0.477688 seconds\n",
            "Time taken to multiply a 100 x 100 matrix by itself 100 times: 0.479112 seconds\n",
            "Time taken to multiply a 100 x 100 matrix by itself 100 times: 0.551137 seconds\n",
            "Time taken to multiply a 100 x 100 matrix by itself 100 times: 0.812585 seconds\n",
            "Time taken to multiply a 100 x 100 matrix by itself 100 times: 0.816380 seconds\n",
            "Time taken to multiply a 100 x 100 matrix by itself 100 times: 0.672102 seconds\n",
            "Time taken to multiply a 100 x 100 matrix by itself 100 times: 0.474385 seconds\n",
            "\n"
          ]
        }
      ]
    },
    {
      "cell_type": "markdown",
      "source": [
        "<div dir=rtl>\n",
        "\n",
        "#חלק זה נכתב בעזרת מודל שפה\n",
        "* כמו כן, הקודים נכתבו חלקית בעזרת מודל שפה (חדש!) מיועד לתכנות blackbox.ai (ממליץ בחום)\n",
        "\n",
        "\n",
        "[ קישור לצ'אט עם המודל](https://www.blackbox.ai/share/f2896d92-39b4-4f89-a705-12ed15845464)\n",
        "\n",
        "\n",
        "\n",
        "להלן כמה סיבות לכך ש-CUDA (GPUs עם CUDA) יכול להיות מהיר יותר מ-C (CPU) עבור סוגים מסוימים של חישובים:\n",
        "\n",
        "*מקביליות*: CUDA מאפשר ביצוע של מספר שרשורים במקביל, מה שיכול להאיץ משמעותית את הביצוע של סוגים מסוימים של חישובים.\n",
        "\n",
        "*היררכיית זיכרון*: ל-CUDA יש היררכיית זיכרון עמוקה, הכוללת אוגרים, זיכרון משותף וזיכרון גלובלי, שניתן להשתמש בהם כדי לייעל את ביצועי החישובים.\n",
        "\n",
        "*פעולות וקטוריות*: CUDA תומך בפעולות וקטוריות, שניתן להשתמש בהן לביצוע מספר פעולות במקביל.\n",
        "\n",
        "*ביצוע ליבה*: CUDA מאפשר ביצוע של ליבות, שהן פונקציות שמבוצעות על ה-GPU. זה מאפשר הורדה של חישובים מהמעבד ל-GPU, מה שיכול לשפר את הביצועים של המערכת הכוללת.\n",
        "במקביל: CUDA מאפשר ביצוע במקביל של מספר גרעינים, מה שיכול לשפר עוד יותר את ביצועי המערכת.\n",
        "\n",
        "*ספריות אופטימליות*: CUDA מספקת ספריות אופטימליות, כגון cuBLAS ו-cuFFT, שניתן להשתמש בהן לביצוע אלגברה ליניארית נפוצה ופעולות טרנספורמציה מהירה של פורייה.\n",
        "האצת חומרה: GPUs התומכים ב-CUDA תוכננו במיוחד עבור מחשוב בעל ביצועים גבוהים, ולעתים קרובות יש להם יותר ליבות ורוחב פס זיכרון גבוה יותר מאשר למעבדים. זה יכול לגרום לביצועים מהירים יותר עבור סוגים מסוימים של חישובים.\n",
        "\n",
        "חשוב לציין ש-CUDA לא תמיד מהיר יותר מ-C עבור כל סוגי החישובים. הביצועים של CUDA ו-C יכולים להיות תלויים בבעיה הספציפית הנפתרת, בגודל הנתונים ובחומרה שבה נעשה שימוש. במקרים מסוימים, CUDA עשוי להיות מהיר משמעותית מ-C, בעוד שבמקרים אחרים, ההבדל בביצועים עשוי להיות זניח.\n",
        "\n",
        "\n",
        "בנוסף, תכנות CUDA דורש מערך מיומנויות שונה מתכנות C, וזה יכול להיות מורכב יותר לכתוב וניפוי באגים בקוד CUDA. חשוב לשקול היטב את ההחלפות בין CUDA ל-C כאשר מחליטים באילו להשתמש עבור פרויקט מסוים.\n",
        "\n",
        "\n",
        "\n",
        "\n",
        "**בכל אופן,**\n",
        "\n",
        "אני באופן אישי מעדיף לעבוד עם שפות ביניים. כמסקנה מהפרוייקט הזה, והאחד שלפניו (ההשוואה בין פייתון ל-C), אני מעריך שהשימוש בשפות ביניים אידיאלי.\n",
        "שפות נמוכות כיום נחשבות למסורבלות מאוד, ובמקרים רבים לא שמישות. שפות גבוהות (כמו פייתון) לוקחות המון זמן ריצה - אך עוזרות בתחילת הלימוד לקליטה של קונספטים מתקדמים במדעי המחשב.\n",
        "\n",
        "</div>"
      ],
      "metadata": {
        "id": "etV5Vcs9tvE9"
      }
    }
  ]
}